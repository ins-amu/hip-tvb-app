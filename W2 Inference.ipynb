{
 "cells": [
  {
   "cell_type": "markdown",
   "id": "8f0eabeb-3e7d-4d65-afcf-e152c7078ff5",
   "metadata": {},
   "source": [
    "# Workflow 2 Inference\n",
    "\n",
    "Inference is the process of identifying parameter values for a model for a given dataset.  On the HIP platform, inference with a TVB model of a patient's brain allows identifying regions of high epileptogenicity.  In this workflow, we'll make use of methods from the Bayesian Virtual Epileptic Patient work to do this.  Once the results are summarized, we generate an overlay image that can be used in other visualization tools for comparison."
   ]
  },
  {
   "cell_type": "code",
   "execution_count": 2,
   "id": "cac0a1e4-b32b-43be-97d3-b361b4391f81",
   "metadata": {},
   "outputs": [
    {
     "ename": "ModuleNotFoundError",
     "evalue": "No module named 'cmdstanpy'",
     "output_type": "error",
     "traceback": [
      "\u001b[0;31m---------------------------------------------------------------------------\u001b[0m",
      "\u001b[0;31mModuleNotFoundError\u001b[0m                       Traceback (most recent call last)",
      "\u001b[0;32m/tmp/ipykernel_1586/3184466661.py\u001b[0m in \u001b[0;36m<module>\u001b[0;34m\u001b[0m\n\u001b[0;32m----> 1\u001b[0;31m \u001b[0;32mimport\u001b[0m \u001b[0mcmdstanpy\u001b[0m\u001b[0;34m\u001b[0m\u001b[0;34m\u001b[0m\u001b[0m\n\u001b[0m",
      "\u001b[0;31mModuleNotFoundError\u001b[0m: No module named 'cmdstanpy'"
     ]
    }
   ],
   "source": [
    "import cmdstanpy"
   ]
  }
 ],
 "metadata": {
  "kernelspec": {
   "display_name": "Python 3 (ipykernel)",
   "language": "python",
   "name": "python3"
  },
  "language_info": {
   "codemirror_mode": {
    "name": "ipython",
    "version": 3
   },
   "file_extension": ".py",
   "mimetype": "text/x-python",
   "name": "python",
   "nbconvert_exporter": "python",
   "pygments_lexer": "ipython3",
   "version": "3.8.12"
  }
 },
 "nbformat": 4,
 "nbformat_minor": 5
}
